{
 "cells": [
  {
   "cell_type": "markdown",
   "metadata": {
    "slideshow": {
     "slide_type": "slide"
    }
   },
   "source": [
    "# Creating a map using geopandas\n",
    "There are lots of benefits of using Choropleth maps (except for having to pronounce it of course!) \n"
   ]
  },
  {
   "cell_type": "markdown",
   "metadata": {
    "slideshow": {
     "slide_type": "slide"
    }
   },
   "source": [
    "# Step 1: import packages\n",
    "\n",
    "As ususal let's first import our packages. Everything is as usual, except we'll also be using a new packaged called geopandas"
   ]
  },
  {
   "cell_type": "code",
   "execution_count": 8,
   "metadata": {
    "slideshow": {
     "slide_type": "-"
    }
   },
   "outputs": [],
   "source": [
    "import numpy as np\n",
    "import pandas as pd \n",
    "import matplotlib.pyplot as plt\n",
    "\n",
    "import geopandas as gpd"
   ]
  },
  {
   "cell_type": "markdown",
   "metadata": {
    "slideshow": {
     "slide_type": "slide"
    }
   },
   "source": [
    "# Step 2: get your data\n",
    "\n",
    "In this case, we're using claimant count data for Greater Manchester. The claimant count measures the number of people claiming unemployment related benefits. \n",
    "\n",
    "There are 10 towns and cities that make up the Greater Manchester region. "
   ]
  },
  {
   "cell_type": "code",
   "execution_count": 9,
   "metadata": {
    "scrolled": true,
    "slideshow": {
     "slide_type": "-"
    }
   },
   "outputs": [
    {
     "data": {
      "text/html": [
       "<div>\n",
       "<style scoped>\n",
       "    .dataframe tbody tr th:only-of-type {\n",
       "        vertical-align: middle;\n",
       "    }\n",
       "\n",
       "    .dataframe tbody tr th {\n",
       "        vertical-align: top;\n",
       "    }\n",
       "\n",
       "    .dataframe thead th {\n",
       "        text-align: right;\n",
       "    }\n",
       "</style>\n",
       "<table border=\"1\" class=\"dataframe\">\n",
       "  <thead>\n",
       "    <tr style=\"text-align: right;\">\n",
       "      <th></th>\n",
       "      <th>Code</th>\n",
       "      <th>Area name</th>\n",
       "      <th>Count levels</th>\n",
       "      <th>% of population</th>\n",
       "      <th>Level change yoy</th>\n",
       "      <th>% change yoy</th>\n",
       "      <th>Unnamed: 6</th>\n",
       "    </tr>\n",
       "  </thead>\n",
       "  <tbody>\n",
       "    <tr>\n",
       "      <th>0</th>\n",
       "      <td>E08000001</td>\n",
       "      <td>Bolton</td>\n",
       "      <td>14925</td>\n",
       "      <td>8.5</td>\n",
       "      <td>7160</td>\n",
       "      <td>4.1</td>\n",
       "      <td>North West</td>\n",
       "    </tr>\n",
       "    <tr>\n",
       "      <th>1</th>\n",
       "      <td>E08000002</td>\n",
       "      <td>Bury</td>\n",
       "      <td>8035</td>\n",
       "      <td>6.9</td>\n",
       "      <td>4000</td>\n",
       "      <td>3.4</td>\n",
       "      <td>North West</td>\n",
       "    </tr>\n",
       "    <tr>\n",
       "      <th>2</th>\n",
       "      <td>E08000003</td>\n",
       "      <td>Manchester</td>\n",
       "      <td>34565</td>\n",
       "      <td>8.9</td>\n",
       "      <td>18240</td>\n",
       "      <td>4.7</td>\n",
       "      <td>North West</td>\n",
       "    </tr>\n",
       "    <tr>\n",
       "      <th>3</th>\n",
       "      <td>E08000004</td>\n",
       "      <td>Oldham</td>\n",
       "      <td>13510</td>\n",
       "      <td>9.3</td>\n",
       "      <td>6660</td>\n",
       "      <td>4.6</td>\n",
       "      <td>North West</td>\n",
       "    </tr>\n",
       "    <tr>\n",
       "      <th>4</th>\n",
       "      <td>E08000005</td>\n",
       "      <td>Rochdale</td>\n",
       "      <td>11520</td>\n",
       "      <td>8.4</td>\n",
       "      <td>5805</td>\n",
       "      <td>4.2</td>\n",
       "      <td>North West</td>\n",
       "    </tr>\n",
       "    <tr>\n",
       "      <th>5</th>\n",
       "      <td>E08000006</td>\n",
       "      <td>Salford</td>\n",
       "      <td>14080</td>\n",
       "      <td>8.3</td>\n",
       "      <td>7415</td>\n",
       "      <td>4.4</td>\n",
       "      <td>North West</td>\n",
       "    </tr>\n",
       "    <tr>\n",
       "      <th>6</th>\n",
       "      <td>E08000007</td>\n",
       "      <td>Stockport</td>\n",
       "      <td>10590</td>\n",
       "      <td>6.0</td>\n",
       "      <td>5675</td>\n",
       "      <td>3.2</td>\n",
       "      <td>North West</td>\n",
       "    </tr>\n",
       "    <tr>\n",
       "      <th>7</th>\n",
       "      <td>E08000008</td>\n",
       "      <td>Tameside</td>\n",
       "      <td>11080</td>\n",
       "      <td>7.9</td>\n",
       "      <td>5600</td>\n",
       "      <td>4.0</td>\n",
       "      <td>North West</td>\n",
       "    </tr>\n",
       "    <tr>\n",
       "      <th>8</th>\n",
       "      <td>E08000009</td>\n",
       "      <td>Trafford</td>\n",
       "      <td>7680</td>\n",
       "      <td>5.3</td>\n",
       "      <td>4300</td>\n",
       "      <td>3.0</td>\n",
       "      <td>North West</td>\n",
       "    </tr>\n",
       "    <tr>\n",
       "      <th>9</th>\n",
       "      <td>E08000010</td>\n",
       "      <td>Wigan</td>\n",
       "      <td>13450</td>\n",
       "      <td>6.6</td>\n",
       "      <td>6090</td>\n",
       "      <td>3.0</td>\n",
       "      <td>North West</td>\n",
       "    </tr>\n",
       "  </tbody>\n",
       "</table>\n",
       "</div>"
      ],
      "text/plain": [
       "        Code   Area name  Count levels  % of population  Level change yoy  \\\n",
       "0  E08000001      Bolton         14925              8.5              7160   \n",
       "1  E08000002        Bury          8035              6.9              4000   \n",
       "2  E08000003  Manchester         34565              8.9             18240   \n",
       "3  E08000004      Oldham         13510              9.3              6660   \n",
       "4  E08000005    Rochdale         11520              8.4              5805   \n",
       "5  E08000006     Salford         14080              8.3              7415   \n",
       "6  E08000007   Stockport         10590              6.0              5675   \n",
       "7  E08000008    Tameside         11080              7.9              5600   \n",
       "8  E08000009    Trafford          7680              5.3              4300   \n",
       "9  E08000010       Wigan         13450              6.6              6090   \n",
       "\n",
       "   % change yoy  Unnamed: 6  \n",
       "0           4.1  North West  \n",
       "1           3.4  North West  \n",
       "2           4.7  North West  \n",
       "3           4.6  North West  \n",
       "4           4.2  North West  \n",
       "5           4.4  North West  \n",
       "6           3.2  North West  \n",
       "7           4.0  North West  \n",
       "8           3.0  North West  \n",
       "9           3.0  North West  "
      ]
     },
     "execution_count": 9,
     "metadata": {},
     "output_type": "execute_result"
    }
   ],
   "source": [
    "df = pd.read_excel('Manchester claimant count.xlsx')\n",
    "df.head(n=10)"
   ]
  },
  {
   "cell_type": "code",
   "execution_count": 11,
   "metadata": {},
   "outputs": [
    {
     "data": {
      "text/plain": [
       "(10, 7)"
      ]
     },
     "execution_count": 11,
     "metadata": {},
     "output_type": "execute_result"
    }
   ],
   "source": [
    "df.shape"
   ]
  },
  {
   "cell_type": "markdown",
   "metadata": {
    "slideshow": {
     "slide_type": "slide"
    }
   },
   "source": [
    "# Step 3: import your shapefile for Greater Manchester. \n",
    "\n",
    "Shapefiles for the UK are easily available from The Open Geography portal, a website from the ONS. \n",
    "You can check that out here: https://geoportal.statistics.gov.uk/\n",
    "\n",
    "There are lots of free shapefiles online for other countries or for a world map. "
   ]
  },
  {
   "cell_type": "code",
   "execution_count": 10,
   "metadata": {
    "scrolled": false
   },
   "outputs": [
    {
     "data": {
      "text/html": [
       "<div>\n",
       "<style scoped>\n",
       "    .dataframe tbody tr th:only-of-type {\n",
       "        vertical-align: middle;\n",
       "    }\n",
       "\n",
       "    .dataframe tbody tr th {\n",
       "        vertical-align: top;\n",
       "    }\n",
       "\n",
       "    .dataframe thead th {\n",
       "        text-align: right;\n",
       "    }\n",
       "</style>\n",
       "<table border=\"1\" class=\"dataframe\">\n",
       "  <thead>\n",
       "    <tr style=\"text-align: right;\">\n",
       "      <th></th>\n",
       "      <th>OBJECTID</th>\n",
       "      <th>LAD19CD</th>\n",
       "      <th>LAD19NM</th>\n",
       "      <th>LAD19NMW</th>\n",
       "      <th>BNG_E</th>\n",
       "      <th>BNG_N</th>\n",
       "      <th>LONG</th>\n",
       "      <th>LAT</th>\n",
       "      <th>Shape__Are</th>\n",
       "      <th>Shape__Len</th>\n",
       "      <th>geometry</th>\n",
       "    </tr>\n",
       "  </thead>\n",
       "  <tbody>\n",
       "    <tr>\n",
       "      <th>0</th>\n",
       "      <td>1</td>\n",
       "      <td>E06000001</td>\n",
       "      <td>Hartlepool</td>\n",
       "      <td>None</td>\n",
       "      <td>447157</td>\n",
       "      <td>531476</td>\n",
       "      <td>-1.27023</td>\n",
       "      <td>54.6762</td>\n",
       "      <td>9.355951e+07</td>\n",
       "      <td>71707.162397</td>\n",
       "      <td>MULTIPOLYGON (((450156.801 525940.201, 450154....</td>\n",
       "    </tr>\n",
       "    <tr>\n",
       "      <th>1</th>\n",
       "      <td>2</td>\n",
       "      <td>E06000002</td>\n",
       "      <td>Middlesbrough</td>\n",
       "      <td>None</td>\n",
       "      <td>451141</td>\n",
       "      <td>516887</td>\n",
       "      <td>-1.21099</td>\n",
       "      <td>54.5447</td>\n",
       "      <td>5.388858e+07</td>\n",
       "      <td>43840.876046</td>\n",
       "      <td>MULTIPOLYGON (((451995.400 521026.897, 452169....</td>\n",
       "    </tr>\n",
       "    <tr>\n",
       "      <th>2</th>\n",
       "      <td>3</td>\n",
       "      <td>E06000003</td>\n",
       "      <td>Redcar and Cleveland</td>\n",
       "      <td>None</td>\n",
       "      <td>464359</td>\n",
       "      <td>519597</td>\n",
       "      <td>-1.00611</td>\n",
       "      <td>54.5675</td>\n",
       "      <td>2.448203e+08</td>\n",
       "      <td>97993.352238</td>\n",
       "      <td>MULTIPOLYGON (((451747.397 520561.100, 451792....</td>\n",
       "    </tr>\n",
       "    <tr>\n",
       "      <th>3</th>\n",
       "      <td>4</td>\n",
       "      <td>E06000004</td>\n",
       "      <td>Stockton-on-Tees</td>\n",
       "      <td>None</td>\n",
       "      <td>444937</td>\n",
       "      <td>518183</td>\n",
       "      <td>-1.30669</td>\n",
       "      <td>54.5569</td>\n",
       "      <td>2.049622e+08</td>\n",
       "      <td>119581.539702</td>\n",
       "      <td>MULTIPOLYGON (((450252.196 525902.201, 450241....</td>\n",
       "    </tr>\n",
       "  </tbody>\n",
       "</table>\n",
       "</div>"
      ],
      "text/plain": [
       "   OBJECTID    LAD19CD               LAD19NM LAD19NMW   BNG_E   BNG_N  \\\n",
       "0         1  E06000001            Hartlepool     None  447157  531476   \n",
       "1         2  E06000002         Middlesbrough     None  451141  516887   \n",
       "2         3  E06000003  Redcar and Cleveland     None  464359  519597   \n",
       "3         4  E06000004      Stockton-on-Tees     None  444937  518183   \n",
       "\n",
       "      LONG      LAT    Shape__Are     Shape__Len  \\\n",
       "0 -1.27023  54.6762  9.355951e+07   71707.162397   \n",
       "1 -1.21099  54.5447  5.388858e+07   43840.876046   \n",
       "2 -1.00611  54.5675  2.448203e+08   97993.352238   \n",
       "3 -1.30669  54.5569  2.049622e+08  119581.539702   \n",
       "\n",
       "                                            geometry  \n",
       "0  MULTIPOLYGON (((450156.801 525940.201, 450154....  \n",
       "1  MULTIPOLYGON (((451995.400 521026.897, 452169....  \n",
       "2  MULTIPOLYGON (((451747.397 520561.100, 451792....  \n",
       "3  MULTIPOLYGON (((450252.196 525902.201, 450241....  "
      ]
     },
     "execution_count": 10,
     "metadata": {},
     "output_type": "execute_result"
    }
   ],
   "source": [
    "UK = \"Local_Authority_Districts__April_2019__UK_BFC_v2-shp/Local_Authority_Districts__April_2019__UK_BFC_v2.shp\"\n",
    "\n",
    "map_df = gpd.read_file(UK)\n",
    "\n",
    "map_df.head(n=4)"
   ]
  },
  {
   "cell_type": "code",
   "execution_count": 4,
   "metadata": {},
   "outputs": [
    {
     "data": {
      "text/plain": [
       "(382, 11)"
      ]
     },
     "execution_count": 4,
     "metadata": {},
     "output_type": "execute_result"
    }
   ],
   "source": [
    "map_df.shape"
   ]
  },
  {
   "cell_type": "code",
   "execution_count": 3,
   "metadata": {
    "scrolled": true,
    "slideshow": {
     "slide_type": "slide"
    }
   },
   "outputs": [
    {
     "data": {
      "text/plain": [
       "<matplotlib.axes._subplots.AxesSubplot at 0x119a1d668>"
      ]
     },
     "execution_count": 3,
     "metadata": {},
     "output_type": "execute_result"
    },
    {
     "data": {
      "image/png": "[encoded data removed]",
      "text/plain": [
       "<Figure size 432x288 with 1 Axes>"
      ]
     },
     "metadata": {
      "needs_background": "light"
     },
     "output_type": "display_data"
    }
   ],
   "source": [
    "map_df.plot()"
   ]
  },
  {
   "cell_type": "code",
   "execution_count": 12,
   "metadata": {
    "scrolled": false,
    "slideshow": {
     "slide_type": "slide"
    }
   },
   "outputs": [
    {
     "data": {
      "text/html": [
       "<div>\n",
       "<style scoped>\n",
       "    .dataframe tbody tr th:only-of-type {\n",
       "        vertical-align: middle;\n",
       "    }\n",
       "\n",
       "    .dataframe tbody tr th {\n",
       "        vertical-align: top;\n",
       "    }\n",
       "\n",
       "    .dataframe thead th {\n",
       "        text-align: right;\n",
       "    }\n",
       "</style>\n",
       "<table border=\"1\" class=\"dataframe\">\n",
       "  <thead>\n",
       "    <tr style=\"text-align: right;\">\n",
       "      <th></th>\n",
       "      <th>OBJECTID</th>\n",
       "      <th>LAD19CD</th>\n",
       "      <th>LAD19NM</th>\n",
       "      <th>LAD19NMW</th>\n",
       "      <th>BNG_E</th>\n",
       "      <th>BNG_N</th>\n",
       "      <th>LONG</th>\n",
       "      <th>LAT</th>\n",
       "      <th>Shape__Are</th>\n",
       "      <th>Shape__Len</th>\n",
       "      <th>geometry</th>\n",
       "    </tr>\n",
       "  </thead>\n",
       "  <tbody>\n",
       "    <tr>\n",
       "      <th>248</th>\n",
       "      <td>249</td>\n",
       "      <td>E08000001</td>\n",
       "      <td>Bolton</td>\n",
       "      <td>None</td>\n",
       "      <td>368352</td>\n",
       "      <td>409873</td>\n",
       "      <td>-2.47952</td>\n",
       "      <td>53.5845</td>\n",
       "      <td>1.397920e+08</td>\n",
       "      <td>82646.892945</td>\n",
       "      <td>POLYGON ((375025.397 414992.099, 375032.702 41...</td>\n",
       "    </tr>\n",
       "    <tr>\n",
       "      <th>249</th>\n",
       "      <td>250</td>\n",
       "      <td>E08000002</td>\n",
       "      <td>Bury</td>\n",
       "      <td>None</td>\n",
       "      <td>379658</td>\n",
       "      <td>410768</td>\n",
       "      <td>-2.30880</td>\n",
       "      <td>53.5931</td>\n",
       "      <td>9.946013e+07</td>\n",
       "      <td>68541.687282</td>\n",
       "      <td>POLYGON ((382117.097 413139.899, 382126.299 41...</td>\n",
       "    </tr>\n",
       "    <tr>\n",
       "      <th>250</th>\n",
       "      <td>251</td>\n",
       "      <td>E08000003</td>\n",
       "      <td>Manchester</td>\n",
       "      <td>None</td>\n",
       "      <td>384591</td>\n",
       "      <td>397063</td>\n",
       "      <td>-2.23359</td>\n",
       "      <td>53.4701</td>\n",
       "      <td>1.156482e+08</td>\n",
       "      <td>86851.007187</td>\n",
       "      <td>POLYGON ((384375.197 404714.801, 384397.203 40...</td>\n",
       "    </tr>\n",
       "    <tr>\n",
       "      <th>251</th>\n",
       "      <td>252</td>\n",
       "      <td>E08000004</td>\n",
       "      <td>Oldham</td>\n",
       "      <td>None</td>\n",
       "      <td>396603</td>\n",
       "      <td>406784</td>\n",
       "      <td>-2.05274</td>\n",
       "      <td>53.5577</td>\n",
       "      <td>1.423449e+08</td>\n",
       "      <td>71165.672087</td>\n",
       "      <td>POLYGON ((399470.898 413357.697, 399484.799 41...</td>\n",
       "    </tr>\n",
       "    <tr>\n",
       "      <th>252</th>\n",
       "      <td>253</td>\n",
       "      <td>E08000005</td>\n",
       "      <td>Rochdale</td>\n",
       "      <td>None</td>\n",
       "      <td>390315</td>\n",
       "      <td>412326</td>\n",
       "      <td>-2.14784</td>\n",
       "      <td>53.6074</td>\n",
       "      <td>1.581282e+08</td>\n",
       "      <td>82713.106698</td>\n",
       "      <td>POLYGON ((398323.804 414179.902, 398315.303 41...</td>\n",
       "    </tr>\n",
       "    <tr>\n",
       "      <th>253</th>\n",
       "      <td>254</td>\n",
       "      <td>E08000006</td>\n",
       "      <td>Salford</td>\n",
       "      <td>None</td>\n",
       "      <td>374556</td>\n",
       "      <td>398128</td>\n",
       "      <td>-2.38485</td>\n",
       "      <td>53.4793</td>\n",
       "      <td>9.719727e+07</td>\n",
       "      <td>63268.472555</td>\n",
       "      <td>POLYGON ((377681.197 404158.100, 377744.997 40...</td>\n",
       "    </tr>\n",
       "    <tr>\n",
       "      <th>254</th>\n",
       "      <td>255</td>\n",
       "      <td>E08000007</td>\n",
       "      <td>Stockport</td>\n",
       "      <td>None</td>\n",
       "      <td>391806</td>\n",
       "      <td>388264</td>\n",
       "      <td>-2.12467</td>\n",
       "      <td>53.3912</td>\n",
       "      <td>1.260403e+08</td>\n",
       "      <td>73638.581467</td>\n",
       "      <td>POLYGON ((398352.802 392562.699, 398356.504 39...</td>\n",
       "    </tr>\n",
       "    <tr>\n",
       "      <th>255</th>\n",
       "      <td>256</td>\n",
       "      <td>E08000008</td>\n",
       "      <td>Tameside</td>\n",
       "      <td>None</td>\n",
       "      <td>394987</td>\n",
       "      <td>397995</td>\n",
       "      <td>-2.07700</td>\n",
       "      <td>53.4787</td>\n",
       "      <td>1.031543e+08</td>\n",
       "      <td>55988.917879</td>\n",
       "      <td>POLYGON ((402525.503 401459.003, 402464.803 40...</td>\n",
       "    </tr>\n",
       "    <tr>\n",
       "      <th>256</th>\n",
       "      <td>257</td>\n",
       "      <td>E08000009</td>\n",
       "      <td>Trafford</td>\n",
       "      <td>None</td>\n",
       "      <td>375790</td>\n",
       "      <td>391162</td>\n",
       "      <td>-2.36572</td>\n",
       "      <td>53.4167</td>\n",
       "      <td>1.060448e+08</td>\n",
       "      <td>60712.610037</td>\n",
       "      <td>POLYGON ((382486.204 397363.895, 382496.197 39...</td>\n",
       "    </tr>\n",
       "    <tr>\n",
       "      <th>257</th>\n",
       "      <td>258</td>\n",
       "      <td>E08000010</td>\n",
       "      <td>Wigan</td>\n",
       "      <td>None</td>\n",
       "      <td>362136</td>\n",
       "      <td>402126</td>\n",
       "      <td>-2.57247</td>\n",
       "      <td>53.5145</td>\n",
       "      <td>1.881710e+08</td>\n",
       "      <td>88690.030571</td>\n",
       "      <td>POLYGON ((358669.999 410970.300, 358665.200 41...</td>\n",
       "    </tr>\n",
       "  </tbody>\n",
       "</table>\n",
       "</div>"
      ],
      "text/plain": [
       "     OBJECTID    LAD19CD     LAD19NM LAD19NMW   BNG_E   BNG_N     LONG  \\\n",
       "248       249  E08000001      Bolton     None  368352  409873 -2.47952   \n",
       "249       250  E08000002        Bury     None  379658  410768 -2.30880   \n",
       "250       251  E08000003  Manchester     None  384591  397063 -2.23359   \n",
       "251       252  E08000004      Oldham     None  396603  406784 -2.05274   \n",
       "252       253  E08000005    Rochdale     None  390315  412326 -2.14784   \n",
       "253       254  E08000006     Salford     None  374556  398128 -2.38485   \n",
       "254       255  E08000007   Stockport     None  391806  388264 -2.12467   \n",
       "255       256  E08000008    Tameside     None  394987  397995 -2.07700   \n",
       "256       257  E08000009    Trafford     None  375790  391162 -2.36572   \n",
       "257       258  E08000010       Wigan     None  362136  402126 -2.57247   \n",
       "\n",
       "         LAT    Shape__Are    Shape__Len  \\\n",
       "248  53.5845  1.397920e+08  82646.892945   \n",
       "249  53.5931  9.946013e+07  68541.687282   \n",
       "250  53.4701  1.156482e+08  86851.007187   \n",
       "251  53.5577  1.423449e+08  71165.672087   \n",
       "252  53.6074  1.581282e+08  82713.106698   \n",
       "253  53.4793  9.719727e+07  63268.472555   \n",
       "254  53.3912  1.260403e+08  73638.581467   \n",
       "255  53.4787  1.031543e+08  55988.917879   \n",
       "256  53.4167  1.060448e+08  60712.610037   \n",
       "257  53.5145  1.881710e+08  88690.030571   \n",
       "\n",
       "                                              geometry  \n",
       "248  POLYGON ((375025.397 414992.099, 375032.702 41...  \n",
       "249  POLYGON ((382117.097 413139.899, 382126.299 41...  \n",
       "250  POLYGON ((384375.197 404714.801, 384397.203 40...  \n",
       "251  POLYGON ((399470.898 413357.697, 399484.799 41...  \n",
       "252  POLYGON ((398323.804 414179.902, 398315.303 41...  \n",
       "253  POLYGON ((377681.197 404158.100, 377744.997 40...  \n",
       "254  POLYGON ((398352.802 392562.699, 398356.504 39...  \n",
       "255  POLYGON ((402525.503 401459.003, 402464.803 40...  \n",
       "256  POLYGON ((382486.204 397363.895, 382496.197 39...  \n",
       "257  POLYGON ((358669.999 410970.300, 358665.200 41...  "
      ]
     },
     "execution_count": 12,
     "metadata": {},
     "output_type": "execute_result"
    }
   ],
   "source": [
    "map_df = map_df[248:258] #only want to keep the 10 rows with Greater Manchester city and towns\n",
    "map_df.head(n=15)"
   ]
  },
  {
   "cell_type": "code",
   "execution_count": 13,
   "metadata": {
    "scrolled": false,
    "slideshow": {
     "slide_type": "slide"
    }
   },
   "outputs": [
    {
     "data": {
      "text/plain": [
       "<matplotlib.axes._subplots.AxesSubplot at 0x11a170d30>"
      ]
     },
     "execution_count": 13,
     "metadata": {},
     "output_type": "execute_result"
    },
    {
     "data": {
      "image/png": "[encoded data removed]",
      "text/plain": [
       "<Figure size 432x288 with 1 Axes>"
      ]
     },
     "metadata": {
      "needs_background": "light"
     },
     "output_type": "display_data"
    }
   ],
   "source": [
    "map_df.plot()"
   ]
  },
  {
   "cell_type": "markdown",
   "metadata": {
    "slideshow": {
     "slide_type": "slide"
    }
   },
   "source": [
    "# Step 4: Merge your dataframe with the shapefile"
   ]
  },
  {
   "cell_type": "code",
   "execution_count": 14,
   "metadata": {
    "scrolled": true
   },
   "outputs": [
    {
     "data": {
      "text/html": [
       "<div>\n",
       "<style scoped>\n",
       "    .dataframe tbody tr th:only-of-type {\n",
       "        vertical-align: middle;\n",
       "    }\n",
       "\n",
       "    .dataframe tbody tr th {\n",
       "        vertical-align: top;\n",
       "    }\n",
       "\n",
       "    .dataframe thead th {\n",
       "        text-align: right;\n",
       "    }\n",
       "</style>\n",
       "<table border=\"1\" class=\"dataframe\">\n",
       "  <thead>\n",
       "    <tr style=\"text-align: right;\">\n",
       "      <th></th>\n",
       "      <th>OBJECTID</th>\n",
       "      <th>LAD19CD</th>\n",
       "      <th>LAD19NMW</th>\n",
       "      <th>BNG_E</th>\n",
       "      <th>BNG_N</th>\n",
       "      <th>LONG</th>\n",
       "      <th>LAT</th>\n",
       "      <th>Shape__Are</th>\n",
       "      <th>Shape__Len</th>\n",
       "      <th>geometry</th>\n",
       "      <th>Code</th>\n",
       "      <th>Count levels</th>\n",
       "      <th>% of population</th>\n",
       "      <th>Level change yoy</th>\n",
       "      <th>% change yoy</th>\n",
       "      <th>Unnamed: 6</th>\n",
       "    </tr>\n",
       "    <tr>\n",
       "      <th>LAD19NM</th>\n",
       "      <th></th>\n",
       "      <th></th>\n",
       "      <th></th>\n",
       "      <th></th>\n",
       "      <th></th>\n",
       "      <th></th>\n",
       "      <th></th>\n",
       "      <th></th>\n",
       "      <th></th>\n",
       "      <th></th>\n",
       "      <th></th>\n",
       "      <th></th>\n",
       "      <th></th>\n",
       "      <th></th>\n",
       "      <th></th>\n",
       "      <th></th>\n",
       "    </tr>\n",
       "  </thead>\n",
       "  <tbody>\n",
       "    <tr>\n",
       "      <th>Bolton</th>\n",
       "      <td>249</td>\n",
       "      <td>E08000001</td>\n",
       "      <td>None</td>\n",
       "      <td>368352</td>\n",
       "      <td>409873</td>\n",
       "      <td>-2.47952</td>\n",
       "      <td>53.5845</td>\n",
       "      <td>1.397920e+08</td>\n",
       "      <td>82646.892945</td>\n",
       "      <td>POLYGON ((375025.397 414992.099, 375032.702 41...</td>\n",
       "      <td>E08000001</td>\n",
       "      <td>14925</td>\n",
       "      <td>8.5</td>\n",
       "      <td>7160</td>\n",
       "      <td>4.1</td>\n",
       "      <td>North West</td>\n",
       "    </tr>\n",
       "    <tr>\n",
       "      <th>Bury</th>\n",
       "      <td>250</td>\n",
       "      <td>E08000002</td>\n",
       "      <td>None</td>\n",
       "      <td>379658</td>\n",
       "      <td>410768</td>\n",
       "      <td>-2.30880</td>\n",
       "      <td>53.5931</td>\n",
       "      <td>9.946013e+07</td>\n",
       "      <td>68541.687282</td>\n",
       "      <td>POLYGON ((382117.097 413139.899, 382126.299 41...</td>\n",
       "      <td>E08000002</td>\n",
       "      <td>8035</td>\n",
       "      <td>6.9</td>\n",
       "      <td>4000</td>\n",
       "      <td>3.4</td>\n",
       "      <td>North West</td>\n",
       "    </tr>\n",
       "    <tr>\n",
       "      <th>Manchester</th>\n",
       "      <td>251</td>\n",
       "      <td>E08000003</td>\n",
       "      <td>None</td>\n",
       "      <td>384591</td>\n",
       "      <td>397063</td>\n",
       "      <td>-2.23359</td>\n",
       "      <td>53.4701</td>\n",
       "      <td>1.156482e+08</td>\n",
       "      <td>86851.007187</td>\n",
       "      <td>POLYGON ((384375.197 404714.801, 384397.203 40...</td>\n",
       "      <td>E08000003</td>\n",
       "      <td>34565</td>\n",
       "      <td>8.9</td>\n",
       "      <td>18240</td>\n",
       "      <td>4.7</td>\n",
       "      <td>North West</td>\n",
       "    </tr>\n",
       "    <tr>\n",
       "      <th>Oldham</th>\n",
       "      <td>252</td>\n",
       "      <td>E08000004</td>\n",
       "      <td>None</td>\n",
       "      <td>396603</td>\n",
       "      <td>406784</td>\n",
       "      <td>-2.05274</td>\n",
       "      <td>53.5577</td>\n",
       "      <td>1.423449e+08</td>\n",
       "      <td>71165.672087</td>\n",
       "      <td>POLYGON ((399470.898 413357.697, 399484.799 41...</td>\n",
       "      <td>E08000004</td>\n",
       "      <td>13510</td>\n",
       "      <td>9.3</td>\n",
       "      <td>6660</td>\n",
       "      <td>4.6</td>\n",
       "      <td>North West</td>\n",
       "    </tr>\n",
       "    <tr>\n",
       "      <th>Rochdale</th>\n",
       "      <td>253</td>\n",
       "      <td>E08000005</td>\n",
       "      <td>None</td>\n",
       "      <td>390315</td>\n",
       "      <td>412326</td>\n",
       "      <td>-2.14784</td>\n",
       "      <td>53.6074</td>\n",
       "      <td>1.581282e+08</td>\n",
       "      <td>82713.106698</td>\n",
       "      <td>POLYGON ((398323.804 414179.902, 398315.303 41...</td>\n",
       "      <td>E08000005</td>\n",
       "      <td>11520</td>\n",
       "      <td>8.4</td>\n",
       "      <td>5805</td>\n",
       "      <td>4.2</td>\n",
       "      <td>North West</td>\n",
       "    </tr>\n",
       "  </tbody>\n",
       "</table>\n",
       "</div>"
      ],
      "text/plain": [
       "            OBJECTID    LAD19CD LAD19NMW   BNG_E   BNG_N     LONG      LAT  \\\n",
       "LAD19NM                                                                      \n",
       "Bolton           249  E08000001     None  368352  409873 -2.47952  53.5845   \n",
       "Bury             250  E08000002     None  379658  410768 -2.30880  53.5931   \n",
       "Manchester       251  E08000003     None  384591  397063 -2.23359  53.4701   \n",
       "Oldham           252  E08000004     None  396603  406784 -2.05274  53.5577   \n",
       "Rochdale         253  E08000005     None  390315  412326 -2.14784  53.6074   \n",
       "\n",
       "              Shape__Are    Shape__Len  \\\n",
       "LAD19NM                                  \n",
       "Bolton      1.397920e+08  82646.892945   \n",
       "Bury        9.946013e+07  68541.687282   \n",
       "Manchester  1.156482e+08  86851.007187   \n",
       "Oldham      1.423449e+08  71165.672087   \n",
       "Rochdale    1.581282e+08  82713.106698   \n",
       "\n",
       "                                                     geometry       Code  \\\n",
       "LAD19NM                                                                    \n",
       "Bolton      POLYGON ((375025.397 414992.099, 375032.702 41...  E08000001   \n",
       "Bury        POLYGON ((382117.097 413139.899, 382126.299 41...  E08000002   \n",
       "Manchester  POLYGON ((384375.197 404714.801, 384397.203 40...  E08000003   \n",
       "Oldham      POLYGON ((399470.898 413357.697, 399484.799 41...  E08000004   \n",
       "Rochdale    POLYGON ((398323.804 414179.902, 398315.303 41...  E08000005   \n",
       "\n",
       "            Count levels  % of population  Level change yoy  % change yoy  \\\n",
       "LAD19NM                                                                     \n",
       "Bolton             14925              8.5              7160           4.1   \n",
       "Bury                8035              6.9              4000           3.4   \n",
       "Manchester         34565              8.9             18240           4.7   \n",
       "Oldham             13510              9.3              6660           4.6   \n",
       "Rochdale           11520              8.4              5805           4.2   \n",
       "\n",
       "            Unnamed: 6  \n",
       "LAD19NM                 \n",
       "Bolton      North West  \n",
       "Bury        North West  \n",
       "Manchester  North West  \n",
       "Oldham      North West  \n",
       "Rochdale    North West  "
      ]
     },
     "execution_count": 14,
     "metadata": {},
     "output_type": "execute_result"
    }
   ],
   "source": [
    "merged = map_df.set_index('LAD19NM').join(df.set_index('Area name'))\n",
    "merged.head()"
   ]
  },
  {
   "cell_type": "markdown",
   "metadata": {
    "slideshow": {
     "slide_type": "slide"
    }
   },
   "source": [
    "# Step 5: Begin to 'assemble' your map "
   ]
  },
  {
   "cell_type": "code",
   "execution_count": 19,
   "metadata": {
    "scrolled": false
   },
   "outputs": [
    {
     "data": {
      "text/plain": [
       "<matplotlib.axes._subplots.AxesSubplot at 0x11a0f1b70>"
      ]
     },
     "execution_count": 19,
     "metadata": {},
     "output_type": "execute_result"
    },
    {
     "data": {
      "image/png": "[encoded data removed]",
      "text/plain": [
       "<Figure size 720x432 with 1 Axes>"
      ]
     },
     "metadata": {
      "needs_background": "light"
     },
     "output_type": "display_data"
    }
   ],
   "source": [
    "# set a variable that will call whatever column we want to visualise on the map\n",
    "# In this case, it is claimants as a share of the population\n",
    "claimant = '% of population'\n",
    "\n",
    "# set the range for the choropleth\n",
    "vmin, vmax = 2, 10\n",
    "# create figure and axes for Matplotlib\n",
    "fig, ax = plt.subplots(1, figsize=(10, 6))\n",
    "\n",
    "# create map\n",
    "merged.plot(column=claimant, cmap= 'BuGn', linewidth=0.8, ax=ax, edgecolor='0.8')\n"
   ]
  },
  {
   "cell_type": "markdown",
   "metadata": {
    "slideshow": {
     "slide_type": "slide"
    }
   },
   "source": [
    "# Step 6: Add in customisations"
   ]
  },
  {
   "cell_type": "code",
   "execution_count": 27,
   "metadata": {
    "slideshow": {
     "slide_type": "slide"
    }
   },
   "outputs": [
    {
     "data": {
      "image/png": "[encoded data removed]",
      "text/plain": [
       "<Figure size 720x432 with 2 Axes>"
      ]
     },
     "metadata": {
      "needs_background": "light"
     },
     "output_type": "display_data"
    }
   ],
   "source": [
    "# our code from the previous slide\n",
    "claimant = '% of population'\n",
    "vmin, vmax = 2, 10\n",
    "fig, ax = plt.subplots(1, figsize=(10, 6))\n",
    "merged.plot(column=claimant, cmap= 'BuGn', linewidth=0.8, ax=ax, edgecolor='0.8')\n",
    "\n",
    "\n",
    "# remove the axis\n",
    "ax.axis('off')\n",
    "\n",
    "# add a title\n",
    "ax.set_title('Greater Manchester% claimants of the population', fontdict={'fontsize': '25', 'fontweight' : '3'})\n",
    "# create an annotation for the data source\n",
    "ax.annotate('Source: ONS, December 2020',xy=(0.1, .08),  xycoords='figure fraction')\n",
    "\n",
    "            \n",
    "# Create colorbar as a legend\n",
    "sm = plt.cm.ScalarMappable(cmap='BuGn', norm=plt.Normalize(vmin=vmin, vmax=vmax))\n",
    "# empty array for the data range\n",
    "sm._A = []\n",
    "\n",
    "# add the colorbar to the figure\n",
    "cbar = fig.colorbar(sm)  \n",
    "\n",
    "plt.show()"
   ]
  },
  {
   "cell_type": "markdown",
   "metadata": {
    "slideshow": {
     "slide_type": "slide"
    }
   },
   "source": [
    "# Step 7: Save your map as a png file! "
   ]
  },
  {
   "cell_type": "code",
   "execution_count": 28,
   "metadata": {},
   "outputs": [],
   "source": [
    "fig.savefig('map_manchester_claimants.png', dpi=300)"
   ]
  }
 ],
 "metadata": {
  "celltoolbar": "Slideshow",
  "kernelspec": {
   "display_name": "Python 3",
   "language": "python",
   "name": "python3"
  },
  "language_info": {
   "codemirror_mode": {
    "name": "ipython",
    "version": 3
   },
   "file_extension": ".py",
   "mimetype": "text/x-python",
   "name": "python",
   "nbconvert_exporter": "python",
   "pygments_lexer": "ipython3",
   "version": "3.7.3"
  }
 },
 "nbformat": 4,
 "nbformat_minor": 2
}
